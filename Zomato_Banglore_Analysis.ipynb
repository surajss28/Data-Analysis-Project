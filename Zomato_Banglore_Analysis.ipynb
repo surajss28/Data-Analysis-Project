{
  "nbformat": 4,
  "nbformat_minor": 5,
  "metadata": {
    "kernelspec": {
      "display_name": "Python 3",
      "language": "python",
      "name": "python3"
    },
    "language_info": {
      "codemirror_mode": {
        "name": "ipython",
        "version": 3
      },
      "file_extension": ".py",
      "mimetype": "text/x-python",
      "name": "python",
      "nbconvert_exporter": "python",
      "pygments_lexer": "ipython3",
      "version": "3.8.5"
    },
    "colab": {
      "name": "Zomato Banglore Analysis.ipynb",
      "provenance": [],
      "include_colab_link": true
    },
    "accelerator": "GPU"
  },
  "cells": [
    {
      "cell_type": "markdown",
      "metadata": {
        "id": "view-in-github",
        "colab_type": "text"
      },
      "source": [
        "<a href=\"https://colab.research.google.com/github/surajss28/Data-Analysis-Project/blob/main/Zomato_Banglore_Analysis.ipynb\" target=\"_parent\"><img src=\"https://colab.research.google.com/assets/colab-badge.svg\" alt=\"Open In Colab\"/></a>"
      ]
    },
    {
      "cell_type": "markdown",
      "metadata": {
        "id": "celtic-stocks"
      },
      "source": [
        "# Data Analysis Project - Zomato Restaurants in Banglore"
      ],
      "id": "celtic-stocks"
    },
    {
      "cell_type": "markdown",
      "metadata": {
        "id": "sporting-vienna"
      },
      "source": [
        "Data Source - kaggle.com\n",
        "\n",
        "Desription : The data is taken from the kaggle data sheet for doing data analysis. The data is telling about Restaurants in Banglore which provide zomato service.\n",
        "\n",
        "\n"
      ],
      "id": "sporting-vienna"
    },
    {
      "cell_type": "markdown",
      "metadata": {
        "id": "racial-supply"
      },
      "source": [
        "## Data Preparation And Cleaning"
      ],
      "id": "racial-supply"
    },
    {
      "cell_type": "code",
      "metadata": {
        "id": "BL323Owb7luF",
        "colab": {
          "base_uri": "https://localhost:8080/"
        },
        "outputId": "2819f8bf-3693-4e16-ec28-645c986b7e64"
      },
      "source": [
        "from google.colab import drive\n",
        "drive.mount('/content/drive')"
      ],
      "id": "BL323Owb7luF",
      "execution_count": null,
      "outputs": [
        {
          "output_type": "stream",
          "text": [
            "Drive already mounted at /content/drive; to attempt to forcibly remount, call drive.mount(\"/content/drive\", force_remount=True).\n"
          ],
          "name": "stdout"
        }
      ]
    },
    {
      "cell_type": "code",
      "metadata": {
        "id": "tough-destination"
      },
      "source": [
        "import pandas as pd\n",
        "import numpy as np\n",
        "import seaborn as sns\n",
        "import matplotlib.pyplot as plt"
      ],
      "id": "tough-destination",
      "execution_count": null,
      "outputs": []
    },
    {
      "cell_type": "markdown",
      "metadata": {
        "id": "vWJUcwTFyuvV"
      },
      "source": [
        "### Reading Data"
      ],
      "id": "vWJUcwTFyuvV"
    },
    {
      "cell_type": "code",
      "metadata": {
        "id": "adjusted-baseline"
      },
      "source": [
        "df = pd.read_csv(\"/content/drive/MyDrive/zomato.csv\")"
      ],
      "id": "adjusted-baseline",
      "execution_count": null,
      "outputs": []
    },
    {
      "cell_type": "code",
      "metadata": {
        "colab": {
          "base_uri": "https://localhost:8080/",
          "height": 434
        },
        "id": "x6fLlb0pQeWE",
        "outputId": "881ddf9d-ab71-48b1-b566-c24c32c200c4"
      },
      "source": [
        "df.head(3)"
      ],
      "id": "x6fLlb0pQeWE",
      "execution_count": null,
      "outputs": [
        {
          "output_type": "execute_result",
          "data": {
            "text/html": [
              "<div>\n",
              "<style scoped>\n",
              "    .dataframe tbody tr th:only-of-type {\n",
              "        vertical-align: middle;\n",
              "    }\n",
              "\n",
              "    .dataframe tbody tr th {\n",
              "        vertical-align: top;\n",
              "    }\n",
              "\n",
              "    .dataframe thead th {\n",
              "        text-align: right;\n",
              "    }\n",
              "</style>\n",
              "<table border=\"1\" class=\"dataframe\">\n",
              "  <thead>\n",
              "    <tr style=\"text-align: right;\">\n",
              "      <th></th>\n",
              "      <th>url</th>\n",
              "      <th>address</th>\n",
              "      <th>name</th>\n",
              "      <th>online_order</th>\n",
              "      <th>book_table</th>\n",
              "      <th>rate</th>\n",
              "      <th>votes</th>\n",
              "      <th>phone</th>\n",
              "      <th>location</th>\n",
              "      <th>rest_type</th>\n",
              "      <th>dish_liked</th>\n",
              "      <th>cuisines</th>\n",
              "      <th>approx_cost(for two people)</th>\n",
              "      <th>reviews_list</th>\n",
              "      <th>menu_item</th>\n",
              "      <th>listed_in(type)</th>\n",
              "      <th>listed_in(city)</th>\n",
              "    </tr>\n",
              "  </thead>\n",
              "  <tbody>\n",
              "    <tr>\n",
              "      <th>0</th>\n",
              "      <td>https://www.zomato.com/bangalore/jalsa-banasha...</td>\n",
              "      <td>942, 21st Main Road, 2nd Stage, Banashankari, ...</td>\n",
              "      <td>Jalsa</td>\n",
              "      <td>Yes</td>\n",
              "      <td>Yes</td>\n",
              "      <td>4.1/5</td>\n",
              "      <td>775</td>\n",
              "      <td>080 42297555\\r\\n+91 9743772233</td>\n",
              "      <td>Banashankari</td>\n",
              "      <td>Casual Dining</td>\n",
              "      <td>Pasta, Lunch Buffet, Masala Papad, Paneer Laja...</td>\n",
              "      <td>North Indian, Mughlai, Chinese</td>\n",
              "      <td>800</td>\n",
              "      <td>[('Rated 4.0', 'RATED\\n  A beautiful place to ...</td>\n",
              "      <td>[]</td>\n",
              "      <td>Buffet</td>\n",
              "      <td>Banashankari</td>\n",
              "    </tr>\n",
              "    <tr>\n",
              "      <th>1</th>\n",
              "      <td>https://www.zomato.com/bangalore/spice-elephan...</td>\n",
              "      <td>2nd Floor, 80 Feet Road, Near Big Bazaar, 6th ...</td>\n",
              "      <td>Spice Elephant</td>\n",
              "      <td>Yes</td>\n",
              "      <td>No</td>\n",
              "      <td>4.1/5</td>\n",
              "      <td>787</td>\n",
              "      <td>080 41714161</td>\n",
              "      <td>Banashankari</td>\n",
              "      <td>Casual Dining</td>\n",
              "      <td>Momos, Lunch Buffet, Chocolate Nirvana, Thai G...</td>\n",
              "      <td>Chinese, North Indian, Thai</td>\n",
              "      <td>800</td>\n",
              "      <td>[('Rated 4.0', 'RATED\\n  Had been here for din...</td>\n",
              "      <td>[]</td>\n",
              "      <td>Buffet</td>\n",
              "      <td>Banashankari</td>\n",
              "    </tr>\n",
              "    <tr>\n",
              "      <th>2</th>\n",
              "      <td>https://www.zomato.com/SanchurroBangalore?cont...</td>\n",
              "      <td>1112, Next to KIMS Medical College, 17th Cross...</td>\n",
              "      <td>San Churro Cafe</td>\n",
              "      <td>Yes</td>\n",
              "      <td>No</td>\n",
              "      <td>3.8/5</td>\n",
              "      <td>918</td>\n",
              "      <td>+91 9663487993</td>\n",
              "      <td>Banashankari</td>\n",
              "      <td>Cafe, Casual Dining</td>\n",
              "      <td>Churros, Cannelloni, Minestrone Soup, Hot Choc...</td>\n",
              "      <td>Cafe, Mexican, Italian</td>\n",
              "      <td>800</td>\n",
              "      <td>[('Rated 3.0', \"RATED\\n  Ambience is not that ...</td>\n",
              "      <td>[]</td>\n",
              "      <td>Buffet</td>\n",
              "      <td>Banashankari</td>\n",
              "    </tr>\n",
              "  </tbody>\n",
              "</table>\n",
              "</div>"
            ],
            "text/plain": [
              "                                                 url  ... listed_in(city)\n",
              "0  https://www.zomato.com/bangalore/jalsa-banasha...  ...    Banashankari\n",
              "1  https://www.zomato.com/bangalore/spice-elephan...  ...    Banashankari\n",
              "2  https://www.zomato.com/SanchurroBangalore?cont...  ...    Banashankari\n",
              "\n",
              "[3 rows x 17 columns]"
            ]
          },
          "metadata": {
            "tags": []
          },
          "execution_count": 4
        }
      ]
    },
    {
      "cell_type": "code",
      "metadata": {
        "colab": {
          "base_uri": "https://localhost:8080/"
        },
        "id": "E6m73SkIiTaO",
        "outputId": "d99465c3-4fb0-435c-a1d1-72a4f676d30f"
      },
      "source": [
        "df.shape"
      ],
      "id": "E6m73SkIiTaO",
      "execution_count": null,
      "outputs": [
        {
          "output_type": "execute_result",
          "data": {
            "text/plain": [
              "(51717, 17)"
            ]
          },
          "metadata": {
            "tags": []
          },
          "execution_count": 5
        }
      ]
    },
    {
      "cell_type": "code",
      "metadata": {
        "id": "fifth-alcohol",
        "colab": {
          "base_uri": "https://localhost:8080/"
        },
        "outputId": "d9a7c0a3-f4d0-466b-9692-b50f84d94f9b"
      },
      "source": [
        "df.columns"
      ],
      "id": "fifth-alcohol",
      "execution_count": null,
      "outputs": [
        {
          "output_type": "execute_result",
          "data": {
            "text/plain": [
              "Index(['url', 'address', 'name', 'online_order', 'book_table', 'rate', 'votes',\n",
              "       'phone', 'location', 'rest_type', 'dish_liked', 'cuisines',\n",
              "       'approx_cost(for two people)', 'reviews_list', 'menu_item',\n",
              "       'listed_in(type)', 'listed_in(city)'],\n",
              "      dtype='object')"
            ]
          },
          "metadata": {
            "tags": []
          },
          "execution_count": 6
        }
      ]
    },
    {
      "cell_type": "markdown",
      "metadata": {
        "id": "WKo19gbTy2_E"
      },
      "source": [
        "### Renaming the columns for our simplicty"
      ],
      "id": "WKo19gbTy2_E"
    },
    {
      "cell_type": "code",
      "metadata": {
        "id": "aYBCvPZGjnRO"
      },
      "source": [
        "df.rename(columns={'listed_in(city)':'city', 'listed_in(type)':'type','approx_cost(for two people)':'costfor2'},inplace=True)"
      ],
      "id": "aYBCvPZGjnRO",
      "execution_count": null,
      "outputs": []
    },
    {
      "cell_type": "code",
      "metadata": {
        "colab": {
          "base_uri": "https://localhost:8080/"
        },
        "id": "jMEMmCWXjzwm",
        "outputId": "43c2c894-5066-4aaf-b632-c22e52f48348"
      },
      "source": [
        "df.columns"
      ],
      "id": "jMEMmCWXjzwm",
      "execution_count": null,
      "outputs": [
        {
          "output_type": "execute_result",
          "data": {
            "text/plain": [
              "Index(['url', 'address', 'name', 'online_order', 'book_table', 'rate', 'votes',\n",
              "       'phone', 'location', 'rest_type', 'dish_liked', 'cuisines', 'costfor2',\n",
              "       'reviews_list', 'menu_item', 'type', 'city'],\n",
              "      dtype='object')"
            ]
          },
          "metadata": {
            "tags": []
          },
          "execution_count": 8
        }
      ]
    },
    {
      "cell_type": "code",
      "metadata": {
        "colab": {
          "base_uri": "https://localhost:8080/"
        },
        "id": "F18G1eIykGH9",
        "outputId": "9d24c39a-07e6-46b7-c08b-2b9f0bfe676b"
      },
      "source": [
        "df.dtypes"
      ],
      "id": "F18G1eIykGH9",
      "execution_count": null,
      "outputs": [
        {
          "output_type": "execute_result",
          "data": {
            "text/plain": [
              "url             object\n",
              "address         object\n",
              "name            object\n",
              "online_order    object\n",
              "book_table      object\n",
              "rate            object\n",
              "votes            int64\n",
              "phone           object\n",
              "location        object\n",
              "rest_type       object\n",
              "dish_liked      object\n",
              "cuisines        object\n",
              "costfor2        object\n",
              "reviews_list    object\n",
              "menu_item       object\n",
              "type            object\n",
              "city            object\n",
              "dtype: object"
            ]
          },
          "metadata": {
            "tags": []
          },
          "execution_count": 9
        }
      ]
    },
    {
      "cell_type": "code",
      "metadata": {
        "id": "lN2E8_ibj5Ua"
      },
      "source": [
        "df['costfor2'] = df['costfor2'].str.replace(\",\",\"\").astype(float)"
      ],
      "id": "lN2E8_ibj5Ua",
      "execution_count": null,
      "outputs": []
    },
    {
      "cell_type": "code",
      "metadata": {
        "colab": {
          "base_uri": "https://localhost:8080/"
        },
        "id": "gD5dmjlmkzOn",
        "outputId": "cf897faf-283c-49a9-ee35-88a78e1acba9"
      },
      "source": [
        "df.dtypes"
      ],
      "id": "gD5dmjlmkzOn",
      "execution_count": null,
      "outputs": [
        {
          "output_type": "execute_result",
          "data": {
            "text/plain": [
              "url              object\n",
              "address          object\n",
              "name             object\n",
              "online_order     object\n",
              "book_table       object\n",
              "rate             object\n",
              "votes             int64\n",
              "phone            object\n",
              "location         object\n",
              "rest_type        object\n",
              "dish_liked       object\n",
              "cuisines         object\n",
              "costfor2        float64\n",
              "reviews_list     object\n",
              "menu_item        object\n",
              "type             object\n",
              "city             object\n",
              "dtype: object"
            ]
          },
          "metadata": {
            "tags": []
          },
          "execution_count": 11
        }
      ]
    },
    {
      "cell_type": "markdown",
      "metadata": {
        "id": "Pk_Cr4tgzLkx"
      },
      "source": [
        "### Checking For Null and Unavailble values"
      ],
      "id": "Pk_Cr4tgzLkx"
    },
    {
      "cell_type": "code",
      "metadata": {
        "id": "finnish-viking",
        "colab": {
          "base_uri": "https://localhost:8080/"
        },
        "outputId": "8d30bcfc-85e1-4f10-861c-c91b5d32aa0a"
      },
      "source": [
        "df.isna().sum()"
      ],
      "id": "finnish-viking",
      "execution_count": null,
      "outputs": [
        {
          "output_type": "execute_result",
          "data": {
            "text/plain": [
              "url                 0\n",
              "address             0\n",
              "name                0\n",
              "online_order        0\n",
              "book_table          0\n",
              "rate             7775\n",
              "votes               0\n",
              "phone            1208\n",
              "location           21\n",
              "rest_type         227\n",
              "dish_liked      28078\n",
              "cuisines           45\n",
              "costfor2          346\n",
              "reviews_list        0\n",
              "menu_item           0\n",
              "type                0\n",
              "city                0\n",
              "dtype: int64"
            ]
          },
          "metadata": {
            "tags": []
          },
          "execution_count": 12
        }
      ]
    },
    {
      "cell_type": "markdown",
      "metadata": {
        "id": "dIHOrsjZzWNf"
      },
      "source": [
        "### Droping Unwanted columns"
      ],
      "id": "dIHOrsjZzWNf"
    },
    {
      "cell_type": "code",
      "metadata": {
        "id": "uDy7N8eFoRXf"
      },
      "source": [
        "df = df.drop(['url','address','phone','menu_item'],axis = 1)"
      ],
      "id": "uDy7N8eFoRXf",
      "execution_count": null,
      "outputs": []
    },
    {
      "cell_type": "markdown",
      "metadata": {
        "id": "Eyy5ainSpjhL"
      },
      "source": [
        ""
      ],
      "id": "Eyy5ainSpjhL"
    },
    {
      "cell_type": "code",
      "metadata": {
        "colab": {
          "base_uri": "https://localhost:8080/",
          "height": 912
        },
        "id": "-q8fZhYlKI1J",
        "outputId": "5d848559-2198-4202-9f06-e8d559c58b8a"
      },
      "source": [
        "df"
      ],
      "id": "-q8fZhYlKI1J",
      "execution_count": null,
      "outputs": [
        {
          "output_type": "execute_result",
          "data": {
            "text/html": [
              "<div>\n",
              "<style scoped>\n",
              "    .dataframe tbody tr th:only-of-type {\n",
              "        vertical-align: middle;\n",
              "    }\n",
              "\n",
              "    .dataframe tbody tr th {\n",
              "        vertical-align: top;\n",
              "    }\n",
              "\n",
              "    .dataframe thead th {\n",
              "        text-align: right;\n",
              "    }\n",
              "</style>\n",
              "<table border=\"1\" class=\"dataframe\">\n",
              "  <thead>\n",
              "    <tr style=\"text-align: right;\">\n",
              "      <th></th>\n",
              "      <th>name</th>\n",
              "      <th>online_order</th>\n",
              "      <th>book_table</th>\n",
              "      <th>rate</th>\n",
              "      <th>votes</th>\n",
              "      <th>location</th>\n",
              "      <th>rest_type</th>\n",
              "      <th>dish_liked</th>\n",
              "      <th>cuisines</th>\n",
              "      <th>costfor2</th>\n",
              "      <th>reviews_list</th>\n",
              "      <th>type</th>\n",
              "      <th>city</th>\n",
              "    </tr>\n",
              "  </thead>\n",
              "  <tbody>\n",
              "    <tr>\n",
              "      <th>0</th>\n",
              "      <td>Jalsa</td>\n",
              "      <td>Yes</td>\n",
              "      <td>Yes</td>\n",
              "      <td>4.1/5</td>\n",
              "      <td>775</td>\n",
              "      <td>Banashankari</td>\n",
              "      <td>Casual Dining</td>\n",
              "      <td>Pasta, Lunch Buffet, Masala Papad, Paneer Laja...</td>\n",
              "      <td>North Indian, Mughlai, Chinese</td>\n",
              "      <td>800.0</td>\n",
              "      <td>[('Rated 4.0', 'RATED\\n  A beautiful place to ...</td>\n",
              "      <td>Buffet</td>\n",
              "      <td>Banashankari</td>\n",
              "    </tr>\n",
              "    <tr>\n",
              "      <th>1</th>\n",
              "      <td>Spice Elephant</td>\n",
              "      <td>Yes</td>\n",
              "      <td>No</td>\n",
              "      <td>4.1/5</td>\n",
              "      <td>787</td>\n",
              "      <td>Banashankari</td>\n",
              "      <td>Casual Dining</td>\n",
              "      <td>Momos, Lunch Buffet, Chocolate Nirvana, Thai G...</td>\n",
              "      <td>Chinese, North Indian, Thai</td>\n",
              "      <td>800.0</td>\n",
              "      <td>[('Rated 4.0', 'RATED\\n  Had been here for din...</td>\n",
              "      <td>Buffet</td>\n",
              "      <td>Banashankari</td>\n",
              "    </tr>\n",
              "    <tr>\n",
              "      <th>2</th>\n",
              "      <td>San Churro Cafe</td>\n",
              "      <td>Yes</td>\n",
              "      <td>No</td>\n",
              "      <td>3.8/5</td>\n",
              "      <td>918</td>\n",
              "      <td>Banashankari</td>\n",
              "      <td>Cafe, Casual Dining</td>\n",
              "      <td>Churros, Cannelloni, Minestrone Soup, Hot Choc...</td>\n",
              "      <td>Cafe, Mexican, Italian</td>\n",
              "      <td>800.0</td>\n",
              "      <td>[('Rated 3.0', \"RATED\\n  Ambience is not that ...</td>\n",
              "      <td>Buffet</td>\n",
              "      <td>Banashankari</td>\n",
              "    </tr>\n",
              "    <tr>\n",
              "      <th>3</th>\n",
              "      <td>Addhuri Udupi Bhojana</td>\n",
              "      <td>No</td>\n",
              "      <td>No</td>\n",
              "      <td>3.7/5</td>\n",
              "      <td>88</td>\n",
              "      <td>Banashankari</td>\n",
              "      <td>Quick Bites</td>\n",
              "      <td>Masala Dosa</td>\n",
              "      <td>South Indian, North Indian</td>\n",
              "      <td>300.0</td>\n",
              "      <td>[('Rated 4.0', \"RATED\\n  Great food and proper...</td>\n",
              "      <td>Buffet</td>\n",
              "      <td>Banashankari</td>\n",
              "    </tr>\n",
              "    <tr>\n",
              "      <th>4</th>\n",
              "      <td>Grand Village</td>\n",
              "      <td>No</td>\n",
              "      <td>No</td>\n",
              "      <td>3.8/5</td>\n",
              "      <td>166</td>\n",
              "      <td>Basavanagudi</td>\n",
              "      <td>Casual Dining</td>\n",
              "      <td>Panipuri, Gol Gappe</td>\n",
              "      <td>North Indian, Rajasthani</td>\n",
              "      <td>600.0</td>\n",
              "      <td>[('Rated 4.0', 'RATED\\n  Very good restaurant ...</td>\n",
              "      <td>Buffet</td>\n",
              "      <td>Banashankari</td>\n",
              "    </tr>\n",
              "    <tr>\n",
              "      <th>...</th>\n",
              "      <td>...</td>\n",
              "      <td>...</td>\n",
              "      <td>...</td>\n",
              "      <td>...</td>\n",
              "      <td>...</td>\n",
              "      <td>...</td>\n",
              "      <td>...</td>\n",
              "      <td>...</td>\n",
              "      <td>...</td>\n",
              "      <td>...</td>\n",
              "      <td>...</td>\n",
              "      <td>...</td>\n",
              "      <td>...</td>\n",
              "    </tr>\n",
              "    <tr>\n",
              "      <th>51712</th>\n",
              "      <td>Best Brews - Four Points by Sheraton Bengaluru...</td>\n",
              "      <td>No</td>\n",
              "      <td>No</td>\n",
              "      <td>3.6 /5</td>\n",
              "      <td>27</td>\n",
              "      <td>Whitefield</td>\n",
              "      <td>Bar</td>\n",
              "      <td>NaN</td>\n",
              "      <td>Continental</td>\n",
              "      <td>1500.0</td>\n",
              "      <td>[('Rated 5.0', \"RATED\\n  Food and service are ...</td>\n",
              "      <td>Pubs and bars</td>\n",
              "      <td>Whitefield</td>\n",
              "    </tr>\n",
              "    <tr>\n",
              "      <th>51713</th>\n",
              "      <td>Vinod Bar And Restaurant</td>\n",
              "      <td>No</td>\n",
              "      <td>No</td>\n",
              "      <td>NaN</td>\n",
              "      <td>0</td>\n",
              "      <td>Whitefield</td>\n",
              "      <td>Bar</td>\n",
              "      <td>NaN</td>\n",
              "      <td>Finger Food</td>\n",
              "      <td>600.0</td>\n",
              "      <td>[]</td>\n",
              "      <td>Pubs and bars</td>\n",
              "      <td>Whitefield</td>\n",
              "    </tr>\n",
              "    <tr>\n",
              "      <th>51714</th>\n",
              "      <td>Plunge - Sheraton Grand Bengaluru Whitefield H...</td>\n",
              "      <td>No</td>\n",
              "      <td>No</td>\n",
              "      <td>NaN</td>\n",
              "      <td>0</td>\n",
              "      <td>Whitefield</td>\n",
              "      <td>Bar</td>\n",
              "      <td>NaN</td>\n",
              "      <td>Finger Food</td>\n",
              "      <td>2000.0</td>\n",
              "      <td>[]</td>\n",
              "      <td>Pubs and bars</td>\n",
              "      <td>Whitefield</td>\n",
              "    </tr>\n",
              "    <tr>\n",
              "      <th>51715</th>\n",
              "      <td>Chime - Sheraton Grand Bengaluru Whitefield Ho...</td>\n",
              "      <td>No</td>\n",
              "      <td>Yes</td>\n",
              "      <td>4.3 /5</td>\n",
              "      <td>236</td>\n",
              "      <td>ITPL Main Road, Whitefield</td>\n",
              "      <td>Bar</td>\n",
              "      <td>Cocktails, Pizza, Buttermilk</td>\n",
              "      <td>Finger Food</td>\n",
              "      <td>2500.0</td>\n",
              "      <td>[('Rated 4.0', 'RATED\\n  Nice and friendly pla...</td>\n",
              "      <td>Pubs and bars</td>\n",
              "      <td>Whitefield</td>\n",
              "    </tr>\n",
              "    <tr>\n",
              "      <th>51716</th>\n",
              "      <td>The Nest - The Den Bengaluru</td>\n",
              "      <td>No</td>\n",
              "      <td>No</td>\n",
              "      <td>3.4 /5</td>\n",
              "      <td>13</td>\n",
              "      <td>ITPL Main Road, Whitefield</td>\n",
              "      <td>Bar, Casual Dining</td>\n",
              "      <td>NaN</td>\n",
              "      <td>Finger Food, North Indian, Continental</td>\n",
              "      <td>1500.0</td>\n",
              "      <td>[('Rated 5.0', 'RATED\\n  Great ambience , look...</td>\n",
              "      <td>Pubs and bars</td>\n",
              "      <td>Whitefield</td>\n",
              "    </tr>\n",
              "  </tbody>\n",
              "</table>\n",
              "<p>51717 rows × 13 columns</p>\n",
              "</div>"
            ],
            "text/plain": [
              "                                                    name  ...          city\n",
              "0                                                  Jalsa  ...  Banashankari\n",
              "1                                         Spice Elephant  ...  Banashankari\n",
              "2                                        San Churro Cafe  ...  Banashankari\n",
              "3                                  Addhuri Udupi Bhojana  ...  Banashankari\n",
              "4                                          Grand Village  ...  Banashankari\n",
              "...                                                  ...  ...           ...\n",
              "51712  Best Brews - Four Points by Sheraton Bengaluru...  ...    Whitefield\n",
              "51713                           Vinod Bar And Restaurant  ...    Whitefield\n",
              "51714  Plunge - Sheraton Grand Bengaluru Whitefield H...  ...    Whitefield\n",
              "51715  Chime - Sheraton Grand Bengaluru Whitefield Ho...  ...    Whitefield\n",
              "51716                       The Nest - The Den Bengaluru  ...    Whitefield\n",
              "\n",
              "[51717 rows x 13 columns]"
            ]
          },
          "metadata": {
            "tags": []
          },
          "execution_count": 14
        }
      ]
    },
    {
      "cell_type": "code",
      "metadata": {
        "colab": {
          "base_uri": "https://localhost:8080/"
        },
        "id": "4vGZCjXQt5bO",
        "outputId": "525daf8d-5d67-41da-f271-16cfd1f2f228"
      },
      "source": [
        "df['name'].nunique()"
      ],
      "id": "4vGZCjXQt5bO",
      "execution_count": null,
      "outputs": [
        {
          "output_type": "execute_result",
          "data": {
            "text/plain": [
              "8792"
            ]
          },
          "metadata": {
            "tags": []
          },
          "execution_count": 15
        }
      ]
    },
    {
      "cell_type": "markdown",
      "metadata": {
        "id": "D_zNwaSRpl9w"
      },
      "source": [
        "## Exploratory Data Analysis and Visualization\r\n",
        "\r\n"
      ],
      "id": "D_zNwaSRpl9w"
    },
    {
      "cell_type": "markdown",
      "metadata": {
        "id": "76VUmAUwu3ES"
      },
      "source": [
        "### ckecking online order availability"
      ],
      "id": "76VUmAUwu3ES"
    },
    {
      "cell_type": "code",
      "metadata": {
        "colab": {
          "base_uri": "https://localhost:8080/"
        },
        "id": "-5s9dnUuphHP",
        "outputId": "d8b54c8c-741f-47f4-b0f7-5236a280ace3"
      },
      "source": [
        "df.online_order.value_counts"
      ],
      "id": "-5s9dnUuphHP",
      "execution_count": null,
      "outputs": [
        {
          "output_type": "execute_result",
          "data": {
            "text/plain": [
              "<bound method IndexOpsMixin.value_counts of 0        Yes\n",
              "1        Yes\n",
              "2        Yes\n",
              "3         No\n",
              "4         No\n",
              "        ... \n",
              "51712     No\n",
              "51713     No\n",
              "51714     No\n",
              "51715     No\n",
              "51716     No\n",
              "Name: online_order, Length: 51717, dtype: object>"
            ]
          },
          "metadata": {
            "tags": []
          },
          "execution_count": 16
        }
      ]
    },
    {
      "cell_type": "code",
      "metadata": {
        "colab": {
          "base_uri": "https://localhost:8080/",
          "height": 265
        },
        "id": "qh6QJMoxQn2b",
        "outputId": "e2bd48d7-b20b-4f64-abe0-9a9bc0031cf9"
      },
      "source": [
        "df.online_order.value_counts().plot(kind='pie',autopct='%1.2f%%')"
      ],
      "id": "qh6QJMoxQn2b",
      "execution_count": null,
      "outputs": [
        {
          "output_type": "execute_result",
          "data": {
            "text/plain": [
              "<matplotlib.axes._subplots.AxesSubplot at 0x7f514426d710>"
            ]
          },
          "metadata": {
            "tags": []
          },
          "execution_count": 17
        },
        {
          "output_type": "display_data",
          "data": {
            "image/png": "[encoded data removed]",
            "text/plain": [
              "<Figure size 432x288 with 1 Axes>"
            ]
          },
          "metadata": {
            "tags": []
          }
        }
      ]
    },
    {
      "cell_type": "markdown",
      "metadata": {
        "id": "Or90IB_QvL1n"
      },
      "source": [
        "###checking advanced booking of table"
      ],
      "id": "Or90IB_QvL1n"
    },
    {
      "cell_type": "code",
      "metadata": {
        "colab": {
          "base_uri": "https://localhost:8080/",
          "height": 265
        },
        "id": "XN48v_SOq16P",
        "outputId": "85cfd535-4074-4a39-e326-3addd4dbd30f"
      },
      "source": [
        "df.book_table.value_counts().plot(kind='pie',autopct='%1.2f%%')"
      ],
      "id": "XN48v_SOq16P",
      "execution_count": null,
      "outputs": [
        {
          "output_type": "execute_result",
          "data": {
            "text/plain": [
              "<matplotlib.axes._subplots.AxesSubplot at 0x7f5143716f90>"
            ]
          },
          "metadata": {
            "tags": []
          },
          "execution_count": 18
        },
        {
          "output_type": "display_data",
          "data": {
            "image/png": "[encoded data removed]",
            "text/plain": [
              "<Figure size 432x288 with 1 Axes>"
            ]
          },
          "metadata": {
            "tags": []
          }
        }
      ]
    },
    {
      "cell_type": "markdown",
      "metadata": {
        "id": "HB3uopv1vhWp"
      },
      "source": [
        "###looking the restaurants type and their number."
      ],
      "id": "HB3uopv1vhWp"
    },
    {
      "cell_type": "code",
      "metadata": {
        "id": "5eFQChEeQoaw"
      },
      "source": [
        "restaurant_type = df.rest_type.value_counts()"
      ],
      "id": "5eFQChEeQoaw",
      "execution_count": null,
      "outputs": []
    },
    {
      "cell_type": "code",
      "metadata": {
        "colab": {
          "base_uri": "https://localhost:8080/"
        },
        "id": "HGxLmofpv0CK",
        "outputId": "628e4660-620c-48d3-d43d-9198771e58e4"
      },
      "source": [
        "restaurant_type"
      ],
      "id": "HGxLmofpv0CK",
      "execution_count": null,
      "outputs": [
        {
          "output_type": "execute_result",
          "data": {
            "text/plain": [
              "Quick Bites                   19132\n",
              "Casual Dining                 10330\n",
              "Cafe                           3732\n",
              "Delivery                       2604\n",
              "Dessert Parlor                 2263\n",
              "                              ...  \n",
              "Cafe, Food Court                  2\n",
              "Pop Up                            2\n",
              "Dessert Parlor, Food Court        2\n",
              "Quick Bites, Kiosk                1\n",
              "Sweet Shop, Dessert Parlor        1\n",
              "Name: rest_type, Length: 93, dtype: int64"
            ]
          },
          "metadata": {
            "tags": []
          },
          "execution_count": 20
        }
      ]
    },
    {
      "cell_type": "markdown",
      "metadata": {
        "id": "M7bfEg3MwDZQ"
      },
      "source": [
        "###what kind of meal will get in banglore ?"
      ],
      "id": "M7bfEg3MwDZQ"
    },
    {
      "cell_type": "code",
      "metadata": {
        "id": "tSPaugGcxsQ6"
      },
      "source": [
        "meal_type = df.type.value_counts()"
      ],
      "id": "tSPaugGcxsQ6",
      "execution_count": null,
      "outputs": []
    },
    {
      "cell_type": "code",
      "metadata": {
        "colab": {
          "base_uri": "https://localhost:8080/"
        },
        "id": "h_fOh9xuzQfP",
        "outputId": "d6bfe099-30ab-45b2-9b05-db800ff97184"
      },
      "source": [
        "meal_type"
      ],
      "id": "h_fOh9xuzQfP",
      "execution_count": null,
      "outputs": [
        {
          "output_type": "execute_result",
          "data": {
            "text/plain": [
              "Delivery              25942\n",
              "Dine-out              17779\n",
              "Desserts               3593\n",
              "Cafes                  1723\n",
              "Drinks & nightlife     1101\n",
              "Buffet                  882\n",
              "Pubs and bars           697\n",
              "Name: type, dtype: int64"
            ]
          },
          "metadata": {
            "tags": []
          },
          "execution_count": 22
        }
      ]
    },
    {
      "cell_type": "code",
      "metadata": {
        "colab": {
          "base_uri": "https://localhost:8080/",
          "height": 360
        },
        "id": "aAkGaVxXxsoB",
        "outputId": "9e9b43ee-d110-41f4-ebb8-d9aa909f26ff"
      },
      "source": [
        "meal_type.plot(kind='bar')"
      ],
      "id": "aAkGaVxXxsoB",
      "execution_count": null,
      "outputs": [
        {
          "output_type": "execute_result",
          "data": {
            "text/plain": [
              "<matplotlib.axes._subplots.AxesSubplot at 0x7f5143235910>"
            ]
          },
          "metadata": {
            "tags": []
          },
          "execution_count": 23
        },
        {
          "output_type": "display_data",
          "data": {
            "image/png": "[encoded data removed]",
            "text/plain": [
              "<Figure size 432x288 with 1 Axes>"
            ]
          },
          "metadata": {
            "tags": [],
            "needs_background": "light"
          }
        }
      ]
    },
    {
      "cell_type": "markdown",
      "metadata": {
        "id": "xA77VN9UwZOD"
      },
      "source": [
        "###which restaurants are visited most?"
      ],
      "id": "xA77VN9UwZOD"
    },
    {
      "cell_type": "code",
      "metadata": {
        "id": "HConvrUYylsE"
      },
      "source": [
        "unique_name = df.name.value_counts()"
      ],
      "id": "HConvrUYylsE",
      "execution_count": null,
      "outputs": []
    },
    {
      "cell_type": "code",
      "metadata": {
        "colab": {
          "base_uri": "https://localhost:8080/"
        },
        "id": "gWt3k45WzWos",
        "outputId": "9794d078-852b-4263-ff82-70041fb71a02"
      },
      "source": [
        "unique_name"
      ],
      "id": "gWt3k45WzWos",
      "execution_count": null,
      "outputs": [
        {
          "output_type": "execute_result",
          "data": {
            "text/plain": [
              "Cafe Coffee Day              96\n",
              "Onesta                       85\n",
              "Just Bake                    73\n",
              "Empire Restaurant            71\n",
              "Five Star Chicken            70\n",
              "                             ..\n",
              "Mothers Recipe Restaurant     1\n",
              "Bawarchy Hotel                1\n",
              "Sri Vasavi Super Sandwich     1\n",
              "Baba's Food Center            1\n",
              "Begum's Biriyani              1\n",
              "Name: name, Length: 8792, dtype: int64"
            ]
          },
          "metadata": {
            "tags": []
          },
          "execution_count": 25
        }
      ]
    },
    {
      "cell_type": "markdown",
      "metadata": {
        "id": "ki8c0RS6wxDP"
      },
      "source": [
        "###How many cities are having restaurants and their count."
      ],
      "id": "ki8c0RS6wxDP"
    },
    {
      "cell_type": "code",
      "metadata": {
        "id": "WrVRai2o2FTt"
      },
      "source": [
        "unique_city = df.city.value_counts()"
      ],
      "id": "WrVRai2o2FTt",
      "execution_count": null,
      "outputs": []
    },
    {
      "cell_type": "code",
      "metadata": {
        "colab": {
          "base_uri": "https://localhost:8080/"
        },
        "id": "EOOGUhfT2SsG",
        "outputId": "93b9805b-35fb-4fc0-de96-068b5148e3f4"
      },
      "source": [
        "unique_city"
      ],
      "id": "EOOGUhfT2SsG",
      "execution_count": null,
      "outputs": [
        {
          "output_type": "execute_result",
          "data": {
            "text/plain": [
              "BTM                      3279\n",
              "Koramangala 7th Block    2938\n",
              "Koramangala 5th Block    2836\n",
              "Koramangala 4th Block    2779\n",
              "Koramangala 6th Block    2623\n",
              "Jayanagar                2371\n",
              "JP Nagar                 2096\n",
              "Indiranagar              1860\n",
              "Church Street            1827\n",
              "MG Road                  1811\n",
              "Brigade Road             1769\n",
              "Lavelle Road             1744\n",
              "HSR                      1741\n",
              "Marathahalli             1659\n",
              "Residency Road           1620\n",
              "Whitefield               1620\n",
              "Bannerghatta Road        1617\n",
              "Brookefield              1518\n",
              "Old Airport Road         1425\n",
              "Kammanahalli             1329\n",
              "Kalyan Nagar             1309\n",
              "Basavanagudi             1266\n",
              "Sarjapur Road            1261\n",
              "Electronic City          1229\n",
              "Bellandur                1227\n",
              "Frazer Town              1185\n",
              "Malleshwaram             1096\n",
              "Rajajinagar              1079\n",
              "Banashankari              863\n",
              "New BEL Road              740\n",
              "Name: city, dtype: int64"
            ]
          },
          "metadata": {
            "tags": []
          },
          "execution_count": 27
        }
      ]
    },
    {
      "cell_type": "markdown",
      "metadata": {
        "id": "uTwQXvOhxHbC"
      },
      "source": [
        "###Which dishes has got maximum likes."
      ],
      "id": "uTwQXvOhxHbC"
    },
    {
      "cell_type": "code",
      "metadata": {
        "id": "ifiLbPK0xtDK"
      },
      "source": [
        "dishes = df.dish_liked.value_counts()"
      ],
      "id": "ifiLbPK0xtDK",
      "execution_count": null,
      "outputs": []
    },
    {
      "cell_type": "code",
      "metadata": {
        "id": "oAcERYvNQojR",
        "colab": {
          "base_uri": "https://localhost:8080/"
        },
        "outputId": "951b34d2-e71a-40c5-d5c2-b7cd6ff6c922"
      },
      "source": [
        "dishes"
      ],
      "id": "oAcERYvNQojR",
      "execution_count": null,
      "outputs": [
        {
          "output_type": "execute_result",
          "data": {
            "text/plain": [
              "Biryani                                                                                         182\n",
              "Chicken Biryani                                                                                  73\n",
              "Friendly Staff                                                                                   69\n",
              "Waffles                                                                                          68\n",
              "Paratha                                                                                          57\n",
              "                                                                                               ... \n",
              "Andhra Chicken Curry, Fried Rice, Biryani                                                         1\n",
              "Rajma Chawal                                                                                      1\n",
              "Noodles, Chicken Wings, Chop Suey, Chilli Chicken, Honey Chilli Wings, Spring Chicken             1\n",
              "Noodles, Dragon Chicken, Kung Pao Chicken, Dragon Rolls, Chicken Lollipop, Prawn, Clear Soup      1\n",
              "Tea, Chole Bhature, Kachori                                                                       1\n",
              "Name: dish_liked, Length: 5271, dtype: int64"
            ]
          },
          "metadata": {
            "tags": []
          },
          "execution_count": 29
        }
      ]
    },
    {
      "cell_type": "markdown",
      "metadata": {
        "id": "KvguLYEuxfTj"
      },
      "source": [
        "###which restaurant has got more number of votes? and theire restaurant type."
      ],
      "id": "KvguLYEuxfTj"
    },
    {
      "cell_type": "code",
      "metadata": {
        "id": "ws6VkAs1RlxM"
      },
      "source": [
        "df1 = df.groupby(['name'])['votes'].sum()"
      ],
      "id": "ws6VkAs1RlxM",
      "execution_count": null,
      "outputs": []
    },
    {
      "cell_type": "code",
      "metadata": {
        "id": "_ywlqaJkRlz6"
      },
      "source": [
        "max_votes = df1.sort_values(ascending=False)"
      ],
      "id": "_ywlqaJkRlz6",
      "execution_count": null,
      "outputs": []
    },
    {
      "cell_type": "code",
      "metadata": {
        "colab": {
          "base_uri": "https://localhost:8080/"
        },
        "id": "ZTQID1eV8-PP",
        "outputId": "17922dda-e785-4bb1-fd45-8cab3327ace0"
      },
      "source": [
        "max_votes"
      ],
      "id": "ZTQID1eV8-PP",
      "execution_count": null,
      "outputs": [
        {
          "output_type": "execute_result",
          "data": {
            "text/plain": [
              "name\n",
              "Onesta                 347520\n",
              "Truffles               301059\n",
              "Empire Restaurant      229808\n",
              "Hammered               180602\n",
              "The Black Pearl        172122\n",
              "                        ...  \n",
              "Mughal's                    0\n",
              "Mukesh Sweet Centre         0\n",
              "Multi Kitchen               0\n",
              "Multi Ruchish               0\n",
              "sCoolMeal                   0\n",
              "Name: votes, Length: 8792, dtype: int64"
            ]
          },
          "metadata": {
            "tags": []
          },
          "execution_count": 32
        }
      ]
    },
    {
      "cell_type": "code",
      "metadata": {
        "id": "VaG9c8JPzica"
      },
      "source": [
        "top_votes = max_votes[:15]"
      ],
      "id": "VaG9c8JPzica",
      "execution_count": null,
      "outputs": []
    },
    {
      "cell_type": "code",
      "metadata": {
        "colab": {
          "base_uri": "https://localhost:8080/"
        },
        "id": "tVyHZecO1JJ2",
        "outputId": "ea2bd113-fdf0-4c0e-93a3-fd4ac39a60ce"
      },
      "source": [
        "top_votes"
      ],
      "id": "tVyHZecO1JJ2",
      "execution_count": null,
      "outputs": [
        {
          "output_type": "execute_result",
          "data": {
            "text/plain": [
              "name\n",
              "Onesta                         347520\n",
              "Truffles                       301059\n",
              "Empire Restaurant              229808\n",
              "Hammered                       180602\n",
              "The Black Pearl                172122\n",
              "Meghana Foods                  129557\n",
              "Barbeque Nation                108425\n",
              "Smally's Resto Cafe            102877\n",
              "Byg Brewski Brewing Company     99531\n",
              "Gilly's Restobar                98808\n",
              "Arbor Brewing Company           92362\n",
              "House Of Commons                90573\n",
              "Chutney Chang                   89910\n",
              "Fenny's Lounge And Kitchen      89183\n",
              "AB's - Absolute Barbecues       86418\n",
              "Name: votes, dtype: int64"
            ]
          },
          "metadata": {
            "tags": []
          },
          "execution_count": 34
        }
      ]
    },
    {
      "cell_type": "code",
      "metadata": {
        "id": "26N93jkMHjev"
      },
      "source": [
        "rest=[]"
      ],
      "id": "26N93jkMHjev",
      "execution_count": null,
      "outputs": []
    },
    {
      "cell_type": "code",
      "metadata": {
        "id": "R0HpGAM092eY"
      },
      "source": [
        "rest.append(df.loc[df['name']=='Onesta'].rest_type[:1])\r\n"
      ],
      "id": "R0HpGAM092eY",
      "execution_count": null,
      "outputs": []
    },
    {
      "cell_type": "code",
      "metadata": {
        "id": "NLxmrerrHvVa"
      },
      "source": [
        "rest.append(df.loc[df['name']=='Empire Restaurant'].rest_type[:1])"
      ],
      "id": "NLxmrerrHvVa",
      "execution_count": null,
      "outputs": []
    },
    {
      "cell_type": "code",
      "metadata": {
        "id": "LwsMnQfCER5y"
      },
      "source": [
        "rest.append(df.loc[df['name']=='Truffles'].rest_type[:1])"
      ],
      "id": "LwsMnQfCER5y",
      "execution_count": null,
      "outputs": []
    },
    {
      "cell_type": "code",
      "metadata": {
        "id": "Cvan3zr9ESGY"
      },
      "source": [
        "rest.append(df.loc[df['name']=='The Black Pearl'].rest_type[:1])"
      ],
      "id": "Cvan3zr9ESGY",
      "execution_count": null,
      "outputs": []
    },
    {
      "cell_type": "code",
      "metadata": {
        "id": "BCXvzakHybYc"
      },
      "source": [
        "rest.append(df.loc[df['name']=='Hammered'].rest_type[:1])"
      ],
      "id": "BCXvzakHybYc",
      "execution_count": null,
      "outputs": []
    },
    {
      "cell_type": "code",
      "metadata": {
        "colab": {
          "base_uri": "https://localhost:8080/"
        },
        "id": "HWHSfuleFOdp",
        "outputId": "54778bae-4799-4930-a8e3-ffdf874e7a34"
      },
      "source": [
        "rest"
      ],
      "id": "HWHSfuleFOdp",
      "execution_count": null,
      "outputs": [
        {
          "output_type": "execute_result",
          "data": {
            "text/plain": [
              "[7    Casual Dining, Cafe\n",
              " Name: rest_type, dtype: object, 38    Casual Dining\n",
              " Name: rest_type, dtype: object, 5044    Cafe\n",
              " Name: rest_type, dtype: object, 3762    Casual Dining, Bar\n",
              " Name: rest_type, dtype: object, 5103    Pub, Cafe\n",
              " Name: rest_type, dtype: object]"
            ]
          },
          "metadata": {
            "tags": []
          },
          "execution_count": 41
        }
      ]
    },
    {
      "cell_type": "markdown",
      "metadata": {
        "id": "Tl7ozhjox9fd"
      },
      "source": [
        "###looking at the maximun and minimum costs and votes."
      ],
      "id": "Tl7ozhjox9fd"
    },
    {
      "cell_type": "code",
      "metadata": {
        "colab": {
          "base_uri": "https://localhost:8080/",
          "height": 297
        },
        "id": "NCujrStQFOhb",
        "outputId": "9621c70f-201a-4e3b-d473-f47e58eb0d47"
      },
      "source": [
        "df.describe()"
      ],
      "id": "NCujrStQFOhb",
      "execution_count": null,
      "outputs": [
        {
          "output_type": "execute_result",
          "data": {
            "text/html": [
              "<div>\n",
              "<style scoped>\n",
              "    .dataframe tbody tr th:only-of-type {\n",
              "        vertical-align: middle;\n",
              "    }\n",
              "\n",
              "    .dataframe tbody tr th {\n",
              "        vertical-align: top;\n",
              "    }\n",
              "\n",
              "    .dataframe thead th {\n",
              "        text-align: right;\n",
              "    }\n",
              "</style>\n",
              "<table border=\"1\" class=\"dataframe\">\n",
              "  <thead>\n",
              "    <tr style=\"text-align: right;\">\n",
              "      <th></th>\n",
              "      <th>votes</th>\n",
              "      <th>costfor2</th>\n",
              "    </tr>\n",
              "  </thead>\n",
              "  <tbody>\n",
              "    <tr>\n",
              "      <th>count</th>\n",
              "      <td>51717.000000</td>\n",
              "      <td>51371.000000</td>\n",
              "    </tr>\n",
              "    <tr>\n",
              "      <th>mean</th>\n",
              "      <td>283.697527</td>\n",
              "      <td>555.431566</td>\n",
              "    </tr>\n",
              "    <tr>\n",
              "      <th>std</th>\n",
              "      <td>803.838853</td>\n",
              "      <td>438.850728</td>\n",
              "    </tr>\n",
              "    <tr>\n",
              "      <th>min</th>\n",
              "      <td>0.000000</td>\n",
              "      <td>40.000000</td>\n",
              "    </tr>\n",
              "    <tr>\n",
              "      <th>25%</th>\n",
              "      <td>7.000000</td>\n",
              "      <td>300.000000</td>\n",
              "    </tr>\n",
              "    <tr>\n",
              "      <th>50%</th>\n",
              "      <td>41.000000</td>\n",
              "      <td>400.000000</td>\n",
              "    </tr>\n",
              "    <tr>\n",
              "      <th>75%</th>\n",
              "      <td>198.000000</td>\n",
              "      <td>650.000000</td>\n",
              "    </tr>\n",
              "    <tr>\n",
              "      <th>max</th>\n",
              "      <td>16832.000000</td>\n",
              "      <td>6000.000000</td>\n",
              "    </tr>\n",
              "  </tbody>\n",
              "</table>\n",
              "</div>"
            ],
            "text/plain": [
              "              votes      costfor2\n",
              "count  51717.000000  51371.000000\n",
              "mean     283.697527    555.431566\n",
              "std      803.838853    438.850728\n",
              "min        0.000000     40.000000\n",
              "25%        7.000000    300.000000\n",
              "50%       41.000000    400.000000\n",
              "75%      198.000000    650.000000\n",
              "max    16832.000000   6000.000000"
            ]
          },
          "metadata": {
            "tags": []
          },
          "execution_count": 42
        }
      ]
    },
    {
      "cell_type": "code",
      "metadata": {
        "colab": {
          "base_uri": "https://localhost:8080/"
        },
        "id": "4fS6JwuhFOjy",
        "outputId": "763f4b01-aada-4342-e66e-9dbda93d203e"
      },
      "source": [
        "df.costfor2.max()"
      ],
      "id": "4fS6JwuhFOjy",
      "execution_count": null,
      "outputs": [
        {
          "output_type": "execute_result",
          "data": {
            "text/plain": [
              "6000.0"
            ]
          },
          "metadata": {
            "tags": []
          },
          "execution_count": 43
        }
      ]
    },
    {
      "cell_type": "code",
      "metadata": {
        "colab": {
          "base_uri": "https://localhost:8080/",
          "height": 213
        },
        "id": "EIsZyJkDybbX",
        "outputId": "fd9d9736-d267-4cfc-9742-b15cfd6812df"
      },
      "source": [
        "df.loc[df['costfor2']==6000]"
      ],
      "id": "EIsZyJkDybbX",
      "execution_count": null,
      "outputs": [
        {
          "output_type": "execute_result",
          "data": {
            "text/html": [
              "<div>\n",
              "<style scoped>\n",
              "    .dataframe tbody tr th:only-of-type {\n",
              "        vertical-align: middle;\n",
              "    }\n",
              "\n",
              "    .dataframe tbody tr th {\n",
              "        vertical-align: top;\n",
              "    }\n",
              "\n",
              "    .dataframe thead th {\n",
              "        text-align: right;\n",
              "    }\n",
              "</style>\n",
              "<table border=\"1\" class=\"dataframe\">\n",
              "  <thead>\n",
              "    <tr style=\"text-align: right;\">\n",
              "      <th></th>\n",
              "      <th>name</th>\n",
              "      <th>online_order</th>\n",
              "      <th>book_table</th>\n",
              "      <th>rate</th>\n",
              "      <th>votes</th>\n",
              "      <th>location</th>\n",
              "      <th>rest_type</th>\n",
              "      <th>dish_liked</th>\n",
              "      <th>cuisines</th>\n",
              "      <th>costfor2</th>\n",
              "      <th>reviews_list</th>\n",
              "      <th>type</th>\n",
              "      <th>city</th>\n",
              "    </tr>\n",
              "  </thead>\n",
              "  <tbody>\n",
              "    <tr>\n",
              "      <th>19139</th>\n",
              "      <td>Le Cirque Signature - The Leela Palace</td>\n",
              "      <td>No</td>\n",
              "      <td>Yes</td>\n",
              "      <td>4.3/5</td>\n",
              "      <td>126</td>\n",
              "      <td>Old Airport Road</td>\n",
              "      <td>Fine Dining</td>\n",
              "      <td>Wine, Asparagus Soup, Creme Brulee, Pasta, Rav...</td>\n",
              "      <td>French, Italian</td>\n",
              "      <td>6000.0</td>\n",
              "      <td>[('Rated 5.0', 'RATED\\n  Awesome would be an u...</td>\n",
              "      <td>Dine-out</td>\n",
              "      <td>Indiranagar</td>\n",
              "    </tr>\n",
              "    <tr>\n",
              "      <th>45618</th>\n",
              "      <td>Le Cirque Signature - The Leela Palace</td>\n",
              "      <td>No</td>\n",
              "      <td>Yes</td>\n",
              "      <td>4.3 /5</td>\n",
              "      <td>128</td>\n",
              "      <td>Old Airport Road</td>\n",
              "      <td>Fine Dining</td>\n",
              "      <td>Wine, Asparagus Soup, Creme Brulee, Pasta, Rav...</td>\n",
              "      <td>French, Italian</td>\n",
              "      <td>6000.0</td>\n",
              "      <td>[('Rated 5.0', 'RATED\\n  Awesome would be an u...</td>\n",
              "      <td>Dine-out</td>\n",
              "      <td>Old Airport Road</td>\n",
              "    </tr>\n",
              "  </tbody>\n",
              "</table>\n",
              "</div>"
            ],
            "text/plain": [
              "                                         name  ...              city\n",
              "19139  Le Cirque Signature - The Leela Palace  ...       Indiranagar\n",
              "45618  Le Cirque Signature - The Leela Palace  ...  Old Airport Road\n",
              "\n",
              "[2 rows x 13 columns]"
            ]
          },
          "metadata": {
            "tags": []
          },
          "execution_count": 44
        }
      ]
    },
    {
      "cell_type": "markdown",
      "metadata": {
        "id": "ibbGQ-gmyNRd"
      },
      "source": [
        "###Which location have maximum restaurants?"
      ],
      "id": "ibbGQ-gmyNRd"
    },
    {
      "cell_type": "code",
      "metadata": {
        "colab": {
          "base_uri": "https://localhost:8080/"
        },
        "id": "hE4atV_UL-ji",
        "outputId": "70539349-3f99-4657-e835-cc7e78bd5043"
      },
      "source": [
        "df.location.value_counts()"
      ],
      "id": "hE4atV_UL-ji",
      "execution_count": null,
      "outputs": [
        {
          "output_type": "execute_result",
          "data": {
            "text/plain": [
              "BTM                      5124\n",
              "HSR                      2523\n",
              "Koramangala 5th Block    2504\n",
              "JP Nagar                 2235\n",
              "Whitefield               2144\n",
              "                         ... \n",
              "West Bangalore              6\n",
              "Yelahanka                   6\n",
              "Jakkur                      3\n",
              "Rajarajeshwari Nagar        2\n",
              "Peenya                      1\n",
              "Name: location, Length: 93, dtype: int64"
            ]
          },
          "metadata": {
            "tags": []
          },
          "execution_count": 45
        }
      ]
    },
    {
      "cell_type": "markdown",
      "metadata": {
        "id": "KwsgxM_Y05jT"
      },
      "source": [
        "### Which city having a more number of location?"
      ],
      "id": "KwsgxM_Y05jT"
    },
    {
      "cell_type": "code",
      "metadata": {
        "id": "SxhNzNeb0wR4"
      },
      "source": [
        "df2 = df[['city','location']]"
      ],
      "id": "SxhNzNeb0wR4",
      "execution_count": null,
      "outputs": []
    },
    {
      "cell_type": "code",
      "metadata": {
        "colab": {
          "base_uri": "https://localhost:8080/",
          "height": 142
        },
        "id": "k8BrElzs5miM",
        "outputId": "9065d418-fdd6-4f87-eb61-8e8f04d37d90"
      },
      "source": [
        "df2[:3]"
      ],
      "id": "k8BrElzs5miM",
      "execution_count": null,
      "outputs": [
        {
          "output_type": "execute_result",
          "data": {
            "text/html": [
              "<div>\n",
              "<style scoped>\n",
              "    .dataframe tbody tr th:only-of-type {\n",
              "        vertical-align: middle;\n",
              "    }\n",
              "\n",
              "    .dataframe tbody tr th {\n",
              "        vertical-align: top;\n",
              "    }\n",
              "\n",
              "    .dataframe thead th {\n",
              "        text-align: right;\n",
              "    }\n",
              "</style>\n",
              "<table border=\"1\" class=\"dataframe\">\n",
              "  <thead>\n",
              "    <tr style=\"text-align: right;\">\n",
              "      <th></th>\n",
              "      <th>city</th>\n",
              "      <th>location</th>\n",
              "    </tr>\n",
              "  </thead>\n",
              "  <tbody>\n",
              "    <tr>\n",
              "      <th>0</th>\n",
              "      <td>Banashankari</td>\n",
              "      <td>Banashankari</td>\n",
              "    </tr>\n",
              "    <tr>\n",
              "      <th>1</th>\n",
              "      <td>Banashankari</td>\n",
              "      <td>Banashankari</td>\n",
              "    </tr>\n",
              "    <tr>\n",
              "      <th>2</th>\n",
              "      <td>Banashankari</td>\n",
              "      <td>Banashankari</td>\n",
              "    </tr>\n",
              "  </tbody>\n",
              "</table>\n",
              "</div>"
            ],
            "text/plain": [
              "           city      location\n",
              "0  Banashankari  Banashankari\n",
              "1  Banashankari  Banashankari\n",
              "2  Banashankari  Banashankari"
            ]
          },
          "metadata": {
            "tags": []
          },
          "execution_count": 47
        }
      ]
    },
    {
      "cell_type": "code",
      "metadata": {
        "id": "zavej5f00wfY"
      },
      "source": [
        "df3 = df2.groupby(['city'])"
      ],
      "id": "zavej5f00wfY",
      "execution_count": null,
      "outputs": []
    },
    {
      "cell_type": "code",
      "metadata": {
        "colab": {
          "base_uri": "https://localhost:8080/"
        },
        "id": "DBk_9ydVkkG4",
        "outputId": "94638127-def4-483c-8042-4e3695c2db18"
      },
      "source": [
        "df3"
      ],
      "id": "DBk_9ydVkkG4",
      "execution_count": null,
      "outputs": [
        {
          "output_type": "execute_result",
          "data": {
            "text/plain": [
              "<pandas.core.groupby.generic.DataFrameGroupBy object at 0x7f51431eeed0>"
            ]
          },
          "metadata": {
            "tags": []
          },
          "execution_count": 49
        }
      ]
    },
    {
      "cell_type": "code",
      "metadata": {
        "colab": {
          "base_uri": "https://localhost:8080/"
        },
        "id": "PgwtBviJh3Cz",
        "outputId": "e6aeeafc-d20f-47cd-b874-3f55b5f3b91b"
      },
      "source": [
        "for city, city_df in df3:\r\n",
        "  print(city)\r\n",
        "  print(city_df)"
      ],
      "id": "PgwtBviJh3Cz",
      "execution_count": null,
      "outputs": [
        {
          "output_type": "stream",
          "text": [
            "BTM\n",
            "      city               location\n",
            "8260   BTM                    BTM\n",
            "8261   BTM                    BTM\n",
            "8262   BTM                    BTM\n",
            "8263   BTM                    BTM\n",
            "8264   BTM                    BTM\n",
            "...    ...                    ...\n",
            "11534  BTM  Koramangala 4th Block\n",
            "11535  BTM  Koramangala 7th Block\n",
            "11536  BTM                    HSR\n",
            "11537  BTM               JP Nagar\n",
            "11538  BTM  Koramangala 4th Block\n",
            "\n",
            "[3279 rows x 2 columns]\n",
            "Banashankari\n",
            "             city      location\n",
            "0    Banashankari  Banashankari\n",
            "1    Banashankari  Banashankari\n",
            "2    Banashankari  Banashankari\n",
            "3    Banashankari  Banashankari\n",
            "4    Banashankari  Basavanagudi\n",
            "..            ...           ...\n",
            "858  Banashankari  Banashankari\n",
            "859  Banashankari  Banashankari\n",
            "860  Banashankari  Banashankari\n",
            "861  Banashankari  Banashankari\n",
            "862  Banashankari  Basavanagudi\n",
            "\n",
            "[863 rows x 2 columns]\n",
            "Bannerghatta Road\n",
            "                   city           location\n",
            "863   Bannerghatta Road  Bannerghatta Road\n",
            "864   Bannerghatta Road  Bannerghatta Road\n",
            "865   Bannerghatta Road  Bannerghatta Road\n",
            "866   Bannerghatta Road  Bannerghatta Road\n",
            "867   Bannerghatta Road  Bannerghatta Road\n",
            "...                 ...                ...\n",
            "2475  Bannerghatta Road           JP Nagar\n",
            "2476  Bannerghatta Road           JP Nagar\n",
            "2477  Bannerghatta Road           JP Nagar\n",
            "2478  Bannerghatta Road           JP Nagar\n",
            "2479  Bannerghatta Road                BTM\n",
            "\n",
            "[1617 rows x 2 columns]\n",
            "Basavanagudi\n",
            "              city      location\n",
            "2480  Basavanagudi     Jayanagar\n",
            "2481  Basavanagudi     Jayanagar\n",
            "2482  Basavanagudi  Basavanagudi\n",
            "2483  Basavanagudi  Basavanagudi\n",
            "2484  Basavanagudi  Basavanagudi\n",
            "...            ...           ...\n",
            "3741  Basavanagudi     Jayanagar\n",
            "3742  Basavanagudi  Banashankari\n",
            "3743  Basavanagudi     Jayanagar\n",
            "3744  Basavanagudi  Banashankari\n",
            "3745  Basavanagudi  Banashankari\n",
            "\n",
            "[1266 rows x 2 columns]\n",
            "Bellandur\n",
            "           city       location\n",
            "3746  Bellandur      Bellandur\n",
            "3747  Bellandur  Sarjapur Road\n",
            "3748  Bellandur      Bellandur\n",
            "3749  Bellandur      Bellandur\n",
            "3750  Bellandur      Bellandur\n",
            "...         ...            ...\n",
            "4968  Bellandur   Marathahalli\n",
            "4969  Bellandur   Marathahalli\n",
            "4970  Bellandur  Sarjapur Road\n",
            "4971  Bellandur  Sarjapur Road\n",
            "4972  Bellandur   Marathahalli\n",
            "\n",
            "[1227 rows x 2 columns]\n",
            "Brigade Road\n",
            "              city          location\n",
            "4973  Brigade Road           MG Road\n",
            "4974  Brigade Road     Richmond Road\n",
            "4975  Brigade Road      Brigade Road\n",
            "4976  Brigade Road      Brigade Road\n",
            "4977  Brigade Road      Brigade Road\n",
            "...            ...               ...\n",
            "6737  Brigade Road            Ulsoor\n",
            "6738  Brigade Road            Ulsoor\n",
            "6739  Brigade Road   Cunningham Road\n",
            "6740  Brigade Road  Race Course Road\n",
            "6741  Brigade Road   Cunningham Road\n",
            "\n",
            "[1769 rows x 2 columns]\n",
            "Brookefield\n",
            "             city      location\n",
            "6742  Brookefield   Brookefield\n",
            "6743  Brookefield   Brookefield\n",
            "6744  Brookefield   Brookefield\n",
            "6745  Brookefield    Whitefield\n",
            "6746  Brookefield    Whitefield\n",
            "...           ...           ...\n",
            "8255  Brookefield    Whitefield\n",
            "8256  Brookefield    Whitefield\n",
            "8257  Brookefield  Marathahalli\n",
            "8258  Brookefield    Whitefield\n",
            "8259  Brookefield    Whitefield\n",
            "\n",
            "[1518 rows x 2 columns]\n",
            "Church Street\n",
            "                city          location\n",
            "11539  Church Street     Richmond Road\n",
            "11540  Church Street     Church Street\n",
            "11541  Church Street     Church Street\n",
            "11542  Church Street     Church Street\n",
            "11543  Church Street     Church Street\n",
            "...              ...               ...\n",
            "13361  Church Street            Ulsoor\n",
            "13362  Church Street   Cunningham Road\n",
            "13363  Church Street      Shanti Nagar\n",
            "13364  Church Street  Race Course Road\n",
            "13365  Church Street   Cunningham Road\n",
            "\n",
            "[1827 rows x 2 columns]\n",
            "Electronic City\n",
            "                  city         location\n",
            "13366  Electronic City  Electronic City\n",
            "13367  Electronic City  Electronic City\n",
            "13368  Electronic City  Electronic City\n",
            "13369  Electronic City  Electronic City\n",
            "13370  Electronic City  Electronic City\n",
            "...                ...              ...\n",
            "14590  Electronic City  Electronic City\n",
            "14591  Electronic City  Electronic City\n",
            "14592  Electronic City  Electronic City\n",
            "14593  Electronic City  Electronic City\n",
            "14594  Electronic City  Electronic City\n",
            "\n",
            "[1229 rows x 2 columns]\n",
            "Frazer Town\n",
            "              city         location\n",
            "14595  Frazer Town      Frazer Town\n",
            "14596  Frazer Town     Shivajinagar\n",
            "14597  Frazer Town           Ulsoor\n",
            "14598  Frazer Town          MG Road\n",
            "14599  Frazer Town  Cunningham Road\n",
            "...            ...              ...\n",
            "15775  Frazer Town        Banaswadi\n",
            "15776  Frazer Town          MG Road\n",
            "15777  Frazer Town    Infantry Road\n",
            "15778  Frazer Town  Cunningham Road\n",
            "15779  Frazer Town           Ulsoor\n",
            "\n",
            "[1185 rows x 2 columns]\n",
            "HSR\n",
            "      city               location\n",
            "15780  HSR          Sarjapur Road\n",
            "15781  HSR                    HSR\n",
            "15782  HSR                    HSR\n",
            "15783  HSR                    HSR\n",
            "15784  HSR                    HSR\n",
            "...    ...                    ...\n",
            "17516  HSR  Koramangala 1st Block\n",
            "17517  HSR  Koramangala 1st Block\n",
            "17518  HSR           Bommanahalli\n",
            "17519  HSR  Koramangala 1st Block\n",
            "17520  HSR  Koramangala 1st Block\n",
            "\n",
            "[1741 rows x 2 columns]\n",
            "Indiranagar\n",
            "              city          location\n",
            "17521  Indiranagar       Indiranagar\n",
            "17522  Indiranagar       Indiranagar\n",
            "17523  Indiranagar  Old Airport Road\n",
            "17524  Indiranagar       Indiranagar\n",
            "17525  Indiranagar       Indiranagar\n",
            "...            ...               ...\n",
            "19376  Indiranagar           MG Road\n",
            "19377  Indiranagar            Ulsoor\n",
            "19378  Indiranagar            Ulsoor\n",
            "19379  Indiranagar            Ulsoor\n",
            "19380  Indiranagar            Ulsoor\n",
            "\n",
            "[1860 rows x 2 columns]\n",
            "JP Nagar\n",
            "           city           location\n",
            "21752  JP Nagar          Jayanagar\n",
            "21753  JP Nagar           JP Nagar\n",
            "21754  JP Nagar           JP Nagar\n",
            "21755  JP Nagar           JP Nagar\n",
            "21756  JP Nagar           JP Nagar\n",
            "...         ...                ...\n",
            "23843  JP Nagar           JP Nagar\n",
            "23844  JP Nagar  Bannerghatta Road\n",
            "23845  JP Nagar  Bannerghatta Road\n",
            "23846  JP Nagar                BTM\n",
            "23847  JP Nagar          Jayanagar\n",
            "\n",
            "[2096 rows x 2 columns]\n",
            "Jayanagar\n",
            "            city      location\n",
            "19381  Jayanagar     Jayanagar\n",
            "19382  Jayanagar     Jayanagar\n",
            "19383  Jayanagar     Jayanagar\n",
            "19384  Jayanagar     Jayanagar\n",
            "19385  Jayanagar     Jayanagar\n",
            "...          ...           ...\n",
            "21747  Jayanagar      JP Nagar\n",
            "21748  Jayanagar      JP Nagar\n",
            "21749  Jayanagar  Banashankari\n",
            "21750  Jayanagar  Banashankari\n",
            "21751  Jayanagar      JP Nagar\n",
            "\n",
            "[2371 rows x 2 columns]\n",
            "Kalyan Nagar\n",
            "               city      location\n",
            "23848  Kalyan Nagar  Kalyan Nagar\n",
            "23849  Kalyan Nagar  Kalyan Nagar\n",
            "23850  Kalyan Nagar  Kalyan Nagar\n",
            "23851  Kalyan Nagar  Kalyan Nagar\n",
            "23852  Kalyan Nagar  Kalyan Nagar\n",
            "...             ...           ...\n",
            "25152  Kalyan Nagar  Kammanahalli\n",
            "25153  Kalyan Nagar  Kammanahalli\n",
            "25154  Kalyan Nagar  Kammanahalli\n",
            "25155  Kalyan Nagar     Banaswadi\n",
            "25156  Kalyan Nagar     Banaswadi\n",
            "\n",
            "[1309 rows x 2 columns]\n",
            "Kammanahalli\n",
            "               city      location\n",
            "25157  Kammanahalli  Kammanahalli\n",
            "25158  Kammanahalli  Kammanahalli\n",
            "25159  Kammanahalli  Kammanahalli\n",
            "25160  Kammanahalli  Kammanahalli\n",
            "25161  Kammanahalli  Kammanahalli\n",
            "...             ...           ...\n",
            "26481  Kammanahalli  Kalyan Nagar\n",
            "26482  Kammanahalli  Kalyan Nagar\n",
            "26483  Kammanahalli  Kalyan Nagar\n",
            "26484  Kammanahalli     Banaswadi\n",
            "26485  Kammanahalli     Banaswadi\n",
            "\n",
            "[1329 rows x 2 columns]\n",
            "Koramangala 4th Block\n",
            "                        city               location\n",
            "26486  Koramangala 4th Block  Koramangala 5th Block\n",
            "26487  Koramangala 4th Block  Koramangala 5th Block\n",
            "26488  Koramangala 4th Block  Koramangala 5th Block\n",
            "26489  Koramangala 4th Block  Koramangala 4th Block\n",
            "26490  Koramangala 4th Block  Koramangala 4th Block\n",
            "...                      ...                    ...\n",
            "29260  Koramangala 4th Block                 Domlur\n",
            "29261  Koramangala 4th Block                    HSR\n",
            "29262  Koramangala 4th Block                 Domlur\n",
            "29263  Koramangala 4th Block                    BTM\n",
            "29264  Koramangala 4th Block                    BTM\n",
            "\n",
            "[2779 rows x 2 columns]\n",
            "Koramangala 5th Block\n",
            "                        city               location\n",
            "29265  Koramangala 5th Block  Koramangala 5th Block\n",
            "29266  Koramangala 5th Block  Koramangala 5th Block\n",
            "29267  Koramangala 5th Block  Koramangala 5th Block\n",
            "29268  Koramangala 5th Block  Koramangala 5th Block\n",
            "29269  Koramangala 5th Block  Koramangala 5th Block\n",
            "...                      ...                    ...\n",
            "32096  Koramangala 5th Block                    BTM\n",
            "32097  Koramangala 5th Block                    HSR\n",
            "32098  Koramangala 5th Block                    BTM\n",
            "32099  Koramangala 5th Block                    BTM\n",
            "32100  Koramangala 5th Block                    BTM\n",
            "\n",
            "[2836 rows x 2 columns]\n",
            "Koramangala 6th Block\n",
            "                        city               location\n",
            "32101  Koramangala 6th Block  Koramangala 5th Block\n",
            "32102  Koramangala 6th Block  Koramangala 5th Block\n",
            "32103  Koramangala 6th Block  Koramangala 5th Block\n",
            "32104  Koramangala 6th Block  Koramangala 6th Block\n",
            "32105  Koramangala 6th Block  Koramangala 6th Block\n",
            "...                      ...                    ...\n",
            "34719  Koramangala 6th Block                    HSR\n",
            "34720  Koramangala 6th Block                 Domlur\n",
            "34721  Koramangala 6th Block                 Domlur\n",
            "34722  Koramangala 6th Block                    BTM\n",
            "34723  Koramangala 6th Block                    BTM\n",
            "\n",
            "[2623 rows x 2 columns]\n",
            "Koramangala 7th Block\n",
            "                        city               location\n",
            "34724  Koramangala 7th Block  Koramangala 5th Block\n",
            "34725  Koramangala 7th Block  Koramangala 5th Block\n",
            "34726  Koramangala 7th Block  Koramangala 5th Block\n",
            "34727  Koramangala 7th Block  Koramangala 7th Block\n",
            "34728  Koramangala 7th Block  Koramangala 7th Block\n",
            "...                      ...                    ...\n",
            "37657  Koramangala 7th Block                    BTM\n",
            "37658  Koramangala 7th Block  Koramangala 1st Block\n",
            "37659  Koramangala 7th Block                    BTM\n",
            "37660  Koramangala 7th Block                    BTM\n",
            "37661  Koramangala 7th Block  Koramangala 1st Block\n",
            "\n",
            "[2938 rows x 2 columns]\n",
            "Lavelle Road\n",
            "               city          location\n",
            "37662  Lavelle Road  Race Course Road\n",
            "37663  Lavelle Road      Lavelle Road\n",
            "37664  Lavelle Road     Richmond Road\n",
            "37665  Lavelle Road      Lavelle Road\n",
            "37666  Lavelle Road      Lavelle Road\n",
            "...             ...               ...\n",
            "39401  Lavelle Road          Majestic\n",
            "39402  Lavelle Road          Majestic\n",
            "39403  Lavelle Road   Cunningham Road\n",
            "39404  Lavelle Road            Ulsoor\n",
            "39405  Lavelle Road          Majestic\n",
            "\n",
            "[1744 rows x 2 columns]\n",
            "MG Road\n",
            "          city         location\n",
            "42161  MG Road    Church Street\n",
            "42162  MG Road          MG Road\n",
            "42163  MG Road     Lavelle Road\n",
            "42164  MG Road          MG Road\n",
            "42165  MG Road          MG Road\n",
            "...        ...              ...\n",
            "43967  MG Road           Ulsoor\n",
            "43968  MG Road           Ulsoor\n",
            "43969  MG Road  Cunningham Road\n",
            "43970  MG Road    Infantry Road\n",
            "43971  MG Road    Infantry Road\n",
            "\n",
            "[1811 rows x 2 columns]\n",
            "Malleshwaram\n",
            "               city          location\n",
            "39406  Malleshwaram      Malleshwaram\n",
            "39407  Malleshwaram    Sadashiv Nagar\n",
            "39408  Malleshwaram      Malleshwaram\n",
            "39409  Malleshwaram      Malleshwaram\n",
            "39410  Malleshwaram      Malleshwaram\n",
            "...             ...               ...\n",
            "40497  Malleshwaram       Rajajinagar\n",
            "40498  Malleshwaram  Race Course Road\n",
            "40499  Malleshwaram  Race Course Road\n",
            "40500  Malleshwaram  Race Course Road\n",
            "40501  Malleshwaram       Yeshwantpur\n",
            "\n",
            "[1096 rows x 2 columns]\n",
            "Marathahalli\n",
            "               city      location\n",
            "40502  Marathahalli  Marathahalli\n",
            "40503  Marathahalli  Marathahalli\n",
            "40504  Marathahalli  Marathahalli\n",
            "40505  Marathahalli  Marathahalli\n",
            "40506  Marathahalli  Marathahalli\n",
            "...             ...           ...\n",
            "42156  Marathahalli  Marathahalli\n",
            "42157  Marathahalli  Marathahalli\n",
            "42158  Marathahalli   Brookefield\n",
            "42159  Marathahalli   Brookefield\n",
            "42160  Marathahalli    Whitefield\n",
            "\n",
            "[1659 rows x 2 columns]\n",
            "New BEL Road\n",
            "               city      location\n",
            "43972  New BEL Road  New BEL Road\n",
            "43973  New BEL Road  New BEL Road\n",
            "43974  New BEL Road  New BEL Road\n",
            "43975  New BEL Road  New BEL Road\n",
            "43976  New BEL Road  New BEL Road\n",
            "...             ...           ...\n",
            "44707  New BEL Road  New BEL Road\n",
            "44708  New BEL Road  New BEL Road\n",
            "44709  New BEL Road  New BEL Road\n",
            "44710  New BEL Road  New BEL Road\n",
            "44711  New BEL Road  New BEL Road\n",
            "\n",
            "[740 rows x 2 columns]\n",
            "Old Airport Road\n",
            "                   city          location\n",
            "44712  Old Airport Road  Old Airport Road\n",
            "44713  Old Airport Road       Indiranagar\n",
            "44714  Old Airport Road            Domlur\n",
            "44715  Old Airport Road  Old Airport Road\n",
            "44716  Old Airport Road  Old Airport Road\n",
            "...                 ...               ...\n",
            "46132  Old Airport Road            Domlur\n",
            "46133  Old Airport Road       Indiranagar\n",
            "46134  Old Airport Road       Indiranagar\n",
            "46135  Old Airport Road       Indiranagar\n",
            "46136  Old Airport Road       Indiranagar\n",
            "\n",
            "[1425 rows x 2 columns]\n",
            "Rajajinagar\n",
            "              city       location\n",
            "46137  Rajajinagar    Rajajinagar\n",
            "46138  Rajajinagar    Rajajinagar\n",
            "46139  Rajajinagar    Rajajinagar\n",
            "46140  Rajajinagar    Rajajinagar\n",
            "46141  Rajajinagar    Rajajinagar\n",
            "...            ...            ...\n",
            "47211  Rajajinagar   Malleshwaram\n",
            "47212  Rajajinagar  Seshadripuram\n",
            "47213  Rajajinagar  Seshadripuram\n",
            "47214  Rajajinagar  Seshadripuram\n",
            "47215  Rajajinagar  Seshadripuram\n",
            "\n",
            "[1079 rows x 2 columns]\n",
            "Residency Road\n",
            "                 city          location\n",
            "47216  Residency Road     Richmond Road\n",
            "47217  Residency Road     Church Street\n",
            "47218  Residency Road    Residency Road\n",
            "47219  Residency Road    Residency Road\n",
            "47220  Residency Road    Residency Road\n",
            "...               ...               ...\n",
            "48831  Residency Road            Ulsoor\n",
            "48832  Residency Road      Shivajinagar\n",
            "48833  Residency Road  Race Course Road\n",
            "48834  Residency Road   Cunningham Road\n",
            "48835  Residency Road  Race Course Road\n",
            "\n",
            "[1620 rows x 2 columns]\n",
            "Sarjapur Road\n",
            "                city       location\n",
            "48836  Sarjapur Road  Sarjapur Road\n",
            "48837  Sarjapur Road      Bellandur\n",
            "48838  Sarjapur Road  Sarjapur Road\n",
            "48839  Sarjapur Road  Sarjapur Road\n",
            "48840  Sarjapur Road  Sarjapur Road\n",
            "...              ...            ...\n",
            "50092  Sarjapur Road      Bellandur\n",
            "50093  Sarjapur Road      Bellandur\n",
            "50094  Sarjapur Road   Marathahalli\n",
            "50095  Sarjapur Road      Bellandur\n",
            "50096  Sarjapur Road      Bellandur\n",
            "\n",
            "[1261 rows x 2 columns]\n",
            "Whitefield\n",
            "             city                    location\n",
            "50097  Whitefield                  Whitefield\n",
            "50098  Whitefield                  Whitefield\n",
            "50099  Whitefield                  Whitefield\n",
            "50100  Whitefield                  Whitefield\n",
            "50101  Whitefield                  Whitefield\n",
            "...           ...                         ...\n",
            "51712  Whitefield                  Whitefield\n",
            "51713  Whitefield                  Whitefield\n",
            "51714  Whitefield                  Whitefield\n",
            "51715  Whitefield  ITPL Main Road, Whitefield\n",
            "51716  Whitefield  ITPL Main Road, Whitefield\n",
            "\n",
            "[1620 rows x 2 columns]\n"
          ],
          "name": "stdout"
        }
      ]
    },
    {
      "cell_type": "markdown",
      "metadata": {
        "id": "rmKrNS-CQq3u"
      },
      "source": [
        "# Conclusion and Summary\r\n"
      ],
      "id": "rmKrNS-CQq3u"
    },
    {
      "cell_type": "markdown",
      "metadata": {
        "id": "HuKxAoS0Q19b"
      },
      "source": [
        "##Insights\r\n"
      ],
      "id": "HuKxAoS0Q19b"
    },
    {
      "cell_type": "markdown",
      "metadata": {
        "id": "iHIaE9hmQ85-"
      },
      "source": [
        "###There is No menu data is given for all the dataset hence drop the column.\r\n",
        "\r\n",
        "###seems to be more than 8500 restaurants in banglore.\r\n",
        "\r\n",
        "###There are 59% Restaurants in Banglore who is taking online orders.\r\n",
        "\r\n",
        "###Seems like 88% Restaurants has not giving service of advnaced booking table.\r\n",
        "\r\n",
        "###data is talking about 30 cities in banglore.\r\n",
        "\r\n",
        "###Most of the Restaurants having delivery and dine-out type.\r\n",
        "\r\n",
        "###Most of the people liked biryani.\r\n",
        "\r\n",
        "###Onesta which a cafe has got highest number of votes.\r\n",
        "\r\n",
        "###most of the votes are given to the cafe type reastaurants and casual dining. So we can say that people are enjoying the cafes most.\r\n",
        "\r\n",
        "###Restaurants near airports are expensive.\r\n",
        "\r\n",
        "###Average cost for 2 people in banglore is around 550.\r\n",
        "\r\n",
        "###BTM location has highest number of restaurants.\r\n",
        "\r\n",
        "###BTM city has most Number of restaurants\r\n"
      ],
      "id": "iHIaE9hmQ85-"
    },
    {
      "cell_type": "markdown",
      "metadata": {
        "id": "HeHccFX78uIV"
      },
      "source": [
        "# Future Scope"
      ],
      "id": "HeHccFX78uIV"
    },
    {
      "cell_type": "markdown",
      "metadata": {
        "id": "gCHBm7dX82f-"
      },
      "source": [
        "### We can add city population in order to calculate relation between number of restaurants and population.\r\n",
        "\r\n",
        "### If we get inforamtion about how many people are visiting restaurants in respected location then we can calculate percentage of people are actully enjoying restaurants."
      ],
      "id": "gCHBm7dX82f-"
    }
  ]
}